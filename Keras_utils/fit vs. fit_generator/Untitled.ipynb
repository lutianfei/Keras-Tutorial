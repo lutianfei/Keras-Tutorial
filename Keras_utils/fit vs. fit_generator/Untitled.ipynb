{
 "cells": [
  {
   "cell_type": "markdown",
   "metadata": {},
   "source": [
    "比较Keras的fit和fit_generator的速度"
   ]
  },
  {
   "cell_type": "code",
   "execution_count": 1,
   "metadata": {
    "collapsed": false
   },
   "outputs": [
    {
     "name": "stderr",
     "output_type": "stream",
     "text": [
      "Using TensorFlow backend.\n"
     ]
    }
   ],
   "source": [
    "import numpy as np\n",
    "from keras.preprocessing import sequence\n",
    "from keras.models import Sequential\n",
    "from keras.layers import Dense, Embedding\n",
    "from keras.layers import LSTM\n",
    "from keras.datasets import imdb"
   ]
  },
  {
   "cell_type": "markdown",
   "metadata": {},
   "source": [
    "设置hyper参数。此时20000个字的词汇数，句子长度被限制到80，批量大小为32。超参数设置如下："
   ]
  },
  {
   "cell_type": "code",
   "execution_count": 2,
   "metadata": {
    "collapsed": true
   },
   "outputs": [],
   "source": [
    "max_features = 20000\n",
    "maxlen = 80\n",
    "batch_size = 32"
   ]
  },
  {
   "cell_type": "markdown",
   "metadata": {},
   "source": [
    "接下来，执行数据加载和预处理。"
   ]
  },
  {
   "cell_type": "code",
   "execution_count": 3,
   "metadata": {
    "collapsed": false
   },
   "outputs": [],
   "source": [
    "(x_train, y_train), (x_test, y_test) = imdb.load_data(num_words=max_features)\n",
    "x_train = sequence.pad_sequences(x_train, maxlen=maxlen)\n",
    "x_test = sequence.pad_sequences(x_test, maxlen=maxlen)"
   ]
  },
  {
   "cell_type": "markdown",
   "metadata": {},
   "source": [
    "建立一个模型"
   ]
  },
  {
   "cell_type": "code",
   "execution_count": 4,
   "metadata": {
    "collapsed": true
   },
   "outputs": [],
   "source": [
    "model = Sequential()\n",
    "model.add(Embedding(max_features, 128))\n",
    "model.add(LSTM(128, dropout=0.2, recurrent_dropout=0.2))\n",
    "model.add(Dense(1, activation='sigmoid'))\n",
    "\n",
    "model.compile(loss='binary_crossentropy', optimizer='adam', metrics=['accuracy'])"
   ]
  },
  {
   "cell_type": "markdown",
   "metadata": {},
   "source": [
    "训练模型"
   ]
  },
  {
   "cell_type": "code",
   "execution_count": 5,
   "metadata": {
    "collapsed": false
   },
   "outputs": [
    {
     "name": "stdout",
     "output_type": "stream",
     "text": [
      "Train on 25000 samples, validate on 25000 samples\n",
      "Epoch 1/1\n",
      "25000/25000 [==============================] - 213s - loss: 0.4591 - acc: 0.7830 - val_loss: 0.3649 - val_acc: 0.8370\n"
     ]
    },
    {
     "data": {
      "text/plain": [
       "<keras.callbacks.History at 0x12b386f98>"
      ]
     },
     "execution_count": 5,
     "metadata": {},
     "output_type": "execute_result"
    }
   ],
   "source": [
    "model.fit(x_train, y_train, batch_size=batch_size, epochs=1, validation_data=(x_test, y_test))"
   ]
  },
  {
   "cell_type": "markdown",
   "metadata": {},
   "source": [
    "学习fit_generator方法"
   ]
  },
  {
   "cell_type": "code",
   "execution_count": 6,
   "metadata": {
    "collapsed": false
   },
   "outputs": [
    {
     "name": "stdout",
     "output_type": "stream",
     "text": [
      "Epoch 1/1\n",
      "782/782 [==============================] - 210s - loss: 0.2968 - acc: 0.8785 - val_loss: 0.4816 - val_acc: 0.7910\n"
     ]
    },
    {
     "data": {
      "text/plain": [
       "<keras.callbacks.History at 0x12dfba5f8>"
      ]
     },
     "execution_count": 6,
     "metadata": {},
     "output_type": "execute_result"
    }
   ],
   "source": [
    "def batch_iter(data, labels, batch_size, shuffle=True):\n",
    "    num_batches_per_epoch = int((len(data) - 1) / batch_size) + 1\n",
    "\n",
    "    def data_generator():\n",
    "        data_size = len(data)\n",
    "        while True:\n",
    "            # Shuffle the data at each epoch\n",
    "            if shuffle:\n",
    "                shuffle_indices = np.random.permutation(np.arange(data_size))\n",
    "                shuffled_data = data[shuffle_indices]\n",
    "                shuffled_labels = labels[shuffle_indices]\n",
    "            else:\n",
    "                shuffled_data = data\n",
    "                shuffled_labels = labels\n",
    "\n",
    "            for batch_num in range(num_batches_per_epoch):\n",
    "                start_index = batch_num * batch_size\n",
    "                end_index = min((batch_num + 1) * batch_size, data_size)\n",
    "                X, y = shuffled_data[start_index: end_index], shuffled_labels[start_index: end_index]\n",
    "                yield X, y\n",
    "\n",
    "    return num_batches_per_epoch, data_generator()\n",
    "\n",
    "train_steps, train_batches = batch_iter(x_train, y_train, batch_size)\n",
    "valid_steps, valid_batches = batch_iter(x_test, y_test, batch_size)\n",
    "model.fit_generator(train_batches, train_steps, epochs=1, validation_data=valid_batches, validation_steps=valid_steps)\n",
    "        "
   ]
  },
  {
   "cell_type": "code",
   "execution_count": null,
   "metadata": {
    "collapsed": false
   },
   "outputs": [
    {
     "name": "stdout",
     "output_type": "stream",
     "text": [
      "epoch 0\n",
      "Epoch 1/1\n",
      "32/32 [==============================] - 0s - loss: 0.2972 - acc: 0.8750\n",
      "Epoch 1/1\n",
      "32/32 [==============================] - 0s - loss: 0.2009 - acc: 0.9375\n",
      "Epoch 1/1\n",
      "32/32 [==============================] - 0s - loss: 0.1800 - acc: 0.9375\n",
      "Epoch 1/1\n",
      "32/32 [==============================] - 0s - loss: 0.2271 - acc: 0.9062\n",
      "Epoch 1/1\n",
      "32/32 [==============================] - 0s - loss: 0.1164 - acc: 1.0000\n",
      "Epoch 1/1\n",
      "32/32 [==============================] - 0s - loss: 0.0813 - acc: 1.0000\n",
      "Epoch 1/1\n",
      "32/32 [==============================] - 0s - loss: 0.1032 - acc: 0.9688\n",
      "Epoch 1/1\n",
      "32/32 [==============================] - 0s - loss: 0.1925 - acc: 0.9375\n",
      "Epoch 1/1\n",
      "32/32 [==============================] - 0s - loss: 0.0978 - acc: 0.9688\n",
      "Epoch 1/1\n",
      "32/32 [==============================] - 0s - loss: 0.3538 - acc: 0.9062\n",
      "Epoch 1/1\n",
      "32/32 [==============================] - 0s - loss: 0.1076 - acc: 0.9375\n",
      "Epoch 1/1\n",
      "32/32 [==============================] - 0s - loss: 0.1710 - acc: 0.9375\n",
      "Epoch 1/1\n",
      "32/32 [==============================] - 0s - loss: 0.1331 - acc: 0.9062\n",
      "Epoch 1/1\n",
      "32/32 [==============================] - 0s - loss: 0.1835 - acc: 0.9062\n",
      "Epoch 1/1\n",
      "32/32 [==============================] - 0s - loss: 0.1806 - acc: 0.9062\n",
      "Epoch 1/1\n",
      "32/32 [==============================] - 0s - loss: 0.1489 - acc: 0.9688\n",
      "Epoch 1/1\n",
      "32/32 [==============================] - 0s - loss: 0.0843 - acc: 0.9688\n",
      "Epoch 1/1\n",
      "32/32 [==============================] - 0s - loss: 0.1188 - acc: 0.9375\n",
      "Epoch 1/1\n",
      "32/32 [==============================] - 0s - loss: 0.0805 - acc: 1.0000\n",
      "Epoch 1/1\n",
      "32/32 [==============================] - 0s - loss: 0.1770 - acc: 0.9375\n",
      "Epoch 1/1\n",
      "32/32 [==============================] - 0s - loss: 0.0740 - acc: 0.9688\n",
      "Epoch 1/1\n",
      "32/32 [==============================] - 0s - loss: 0.0895 - acc: 0.9688\n",
      "Epoch 1/1\n",
      "32/32 [==============================] - 0s - loss: 0.3095 - acc: 0.9062\n",
      "Epoch 1/1\n",
      "32/32 [==============================] - 0s - loss: 0.1469 - acc: 0.9375\n",
      "Epoch 1/1\n",
      "32/32 [==============================] - 0s - loss: 0.0917 - acc: 0.9375\n",
      "Epoch 1/1\n",
      "32/32 [==============================] - 0s - loss: 0.1191 - acc: 0.9688\n",
      "Epoch 1/1\n",
      "32/32 [==============================] - 0s - loss: 0.1690 - acc: 0.9375\n",
      "Epoch 1/1\n",
      "32/32 [==============================] - 0s - loss: 0.1498 - acc: 0.9375\n",
      "Epoch 1/1\n",
      "32/32 [==============================] - 0s - loss: 0.1010 - acc: 0.9688\n",
      "Epoch 1/1\n",
      "32/32 [==============================] - 0s - loss: 0.1586 - acc: 0.9688\n",
      "Epoch 1/1\n",
      "32/32 [==============================] - 0s - loss: 0.1063 - acc: 0.9375\n",
      "Epoch 1/1\n",
      "32/32 [==============================] - 0s - loss: 0.0906 - acc: 0.9688\n",
      "Epoch 1/1\n",
      "32/32 [==============================] - 0s - loss: 0.1749 - acc: 0.9688\n",
      "Epoch 1/1\n",
      "32/32 [==============================] - 0s - loss: 0.1055 - acc: 0.9375\n",
      "Epoch 1/1\n",
      "32/32 [==============================] - 0s - loss: 0.1730 - acc: 0.9375\n",
      "Epoch 1/1\n",
      "32/32 [==============================] - 0s - loss: 0.1454 - acc: 0.9688\n",
      "Epoch 1/1\n",
      "32/32 [==============================] - 0s - loss: 0.1631 - acc: 0.8750\n",
      "Epoch 1/1\n",
      "32/32 [==============================] - 0s - loss: 0.0783 - acc: 0.9688\n",
      "Epoch 1/1\n",
      "32/32 [==============================] - 0s - loss: 0.1686 - acc: 0.9688\n",
      "Epoch 1/1\n",
      "32/32 [==============================] - 0s - loss: 0.0958 - acc: 0.9688\n",
      "Epoch 1/1\n",
      "32/32 [==============================] - 0s - loss: 0.0745 - acc: 0.9688\n",
      "Epoch 1/1\n",
      "32/32 [==============================] - 0s - loss: 0.0940 - acc: 0.9688\n",
      "Epoch 1/1\n",
      "32/32 [==============================] - 0s - loss: 0.1140 - acc: 0.9688\n",
      "Epoch 1/1\n",
      "32/32 [==============================] - 0s - loss: 0.1481 - acc: 0.9375\n",
      "Epoch 1/1\n",
      "32/32 [==============================] - 0s - loss: 0.1347 - acc: 0.9688\n",
      "Epoch 1/1\n",
      "32/32 [==============================] - 0s - loss: 0.1452 - acc: 0.9062\n",
      "Epoch 1/1\n",
      "32/32 [==============================] - 0s - loss: 0.0214 - acc: 1.0000\n",
      "Epoch 1/1\n",
      "32/32 [==============================] - 0s - loss: 0.0471 - acc: 0.9688\n",
      "Epoch 1/1\n",
      "32/32 [==============================] - 0s - loss: 0.2566 - acc: 0.8750\n",
      "Epoch 1/1\n",
      "32/32 [==============================] - 0s - loss: 0.1702 - acc: 0.9688\n",
      "Epoch 1/1\n",
      "32/32 [==============================] - 0s - loss: 0.4301 - acc: 0.8750\n",
      "Epoch 1/1\n",
      "32/32 [==============================] - 0s - loss: 0.0999 - acc: 0.9375\n",
      "Epoch 1/1\n",
      "32/32 [==============================] - 0s - loss: 0.0443 - acc: 1.0000\n",
      "Epoch 1/1\n",
      "32/32 [==============================] - 0s - loss: 0.1709 - acc: 0.9062\n",
      "Epoch 1/1\n",
      "32/32 [==============================] - 0s - loss: 0.1266 - acc: 0.9688\n",
      "Epoch 1/1\n",
      "32/32 [==============================] - 0s - loss: 0.3357 - acc: 0.8750\n",
      "Epoch 1/1\n",
      "32/32 [==============================] - 0s - loss: 0.3897 - acc: 0.8125\n",
      "Epoch 1/1\n",
      "32/32 [==============================] - 0s - loss: 0.4861 - acc: 0.9062\n",
      "Epoch 1/1\n",
      "32/32 [==============================] - 0s - loss: 0.0737 - acc: 1.0000\n",
      "Epoch 1/1\n",
      "32/32 [==============================] - 0s - loss: 0.1825 - acc: 0.9375\n",
      "Epoch 1/1\n",
      "32/32 [==============================] - 0s - loss: 0.1447 - acc: 0.8750\n",
      "Epoch 1/1\n",
      "32/32 [==============================] - 0s - loss: 0.2561 - acc: 0.8750\n",
      "Epoch 1/1\n",
      "32/32 [==============================] - 0s - loss: 0.3179 - acc: 0.8438\n",
      "Epoch 1/1\n",
      "32/32 [==============================] - 0s - loss: 0.1784 - acc: 0.9375\n",
      "Epoch 1/1\n",
      "32/32 [==============================] - 0s - loss: 0.2053 - acc: 0.9062\n",
      "Epoch 1/1\n",
      "32/32 [==============================] - 0s - loss: 0.1192 - acc: 0.9688\n",
      "Epoch 1/1\n",
      "32/32 [==============================] - 0s - loss: 0.3367 - acc: 0.8438\n",
      "Epoch 1/1\n",
      "32/32 [==============================] - 0s - loss: 0.3014 - acc: 0.8750\n",
      "Epoch 1/1\n",
      "32/32 [==============================] - 0s - loss: 0.1614 - acc: 0.9688\n",
      "Epoch 1/1\n",
      "32/32 [==============================] - 0s - loss: 0.3885 - acc: 0.9062\n",
      "Epoch 1/1\n",
      "32/32 [==============================] - 0s - loss: 0.1348 - acc: 0.9375\n",
      "Epoch 1/1\n",
      "32/32 [==============================] - 0s - loss: 0.4015 - acc: 0.8438\n",
      "Epoch 1/1\n",
      "32/32 [==============================] - 0s - loss: 0.0826 - acc: 1.0000\n",
      "Epoch 1/1\n",
      "32/32 [==============================] - 0s - loss: 0.0966 - acc: 1.0000\n",
      "Epoch 1/1\n",
      "32/32 [==============================] - 0s - loss: 0.1204 - acc: 0.9375\n",
      "Epoch 1/1\n",
      "32/32 [==============================] - 0s - loss: 0.0732 - acc: 1.0000\n",
      "Epoch 1/1\n",
      "32/32 [==============================] - 0s - loss: 0.3748 - acc: 0.8438\n",
      "Epoch 1/1\n",
      "32/32 [==============================] - 0s - loss: 0.1574 - acc: 0.9375\n",
      "Epoch 1/1\n",
      "32/32 [==============================] - 0s - loss: 0.2782 - acc: 0.9062\n",
      "Epoch 1/1\n",
      "32/32 [==============================] - 0s - loss: 0.0494 - acc: 1.0000\n",
      "Epoch 1/1\n",
      "32/32 [==============================] - 0s - loss: 0.1956 - acc: 0.9062\n",
      "Epoch 1/1\n",
      "32/32 [==============================] - 0s - loss: 0.0574 - acc: 1.0000\n",
      "Epoch 1/1\n",
      "32/32 [==============================] - 0s - loss: 0.0950 - acc: 0.9688\n",
      "Epoch 1/1\n",
      "32/32 [==============================] - 0s - loss: 0.2942 - acc: 0.8750\n",
      "Epoch 1/1\n",
      "32/32 [==============================] - 0s - loss: 0.2391 - acc: 0.9062\n",
      "Epoch 1/1\n",
      "32/32 [==============================] - 0s - loss: 0.0437 - acc: 1.0000\n",
      "Epoch 1/1\n",
      "32/32 [==============================] - 0s - loss: 0.1077 - acc: 0.9062\n",
      "Epoch 1/1\n",
      "32/32 [==============================] - 0s - loss: 0.1520 - acc: 0.9688\n",
      "Epoch 1/1\n",
      "32/32 [==============================] - 0s - loss: 0.1617 - acc: 0.9375\n",
      "Epoch 1/1\n",
      "32/32 [==============================] - 0s - loss: 0.2932 - acc: 0.9375\n",
      "Epoch 1/1\n",
      "32/32 [==============================] - 0s - loss: 0.1660 - acc: 0.9062"
     ]
    }
   ],
   "source": [
    "def data_generator():\n",
    "    num_batches_per_epoch = int((len(x_train) - 1) / batch_size) + 1\n",
    "    data_size = len(x_train)\n",
    "    while True:\n",
    "        # Shuffle the data at each epoch\n",
    "        if True:\n",
    "            shuffle_indices = np.random.permutation(np.arange(data_size))\n",
    "            shuffled_data = x_train[shuffle_indices]\n",
    "            shuffled_labels = y_train[shuffle_indices]\n",
    "        else:\n",
    "            shuffled_data = x_train\n",
    "            shuffled_labels = y_train\n",
    "\n",
    "        for batch_num in range(num_batches_per_epoch):\n",
    "            start_index = batch_num * batch_size\n",
    "            end_index = min((batch_num + 1) * batch_size, data_size)\n",
    "            X, y = shuffled_data[start_index: end_index], shuffled_labels[start_index: end_index]\n",
    "            yield X, y\n",
    "                \n",
    "for e in range(1):\n",
    "    print(\"epoch %d\" % e)\n",
    "    for X_batch, Y_batch in data_generator(): # these are chunks of ~10k pictures\n",
    "        model.fit(X_batch, Y_batch, epochs=1)"
   ]
  },
  {
   "cell_type": "code",
   "execution_count": null,
   "metadata": {
    "collapsed": true
   },
   "outputs": [],
   "source": []
  },
  {
   "cell_type": "code",
   "execution_count": null,
   "metadata": {
    "collapsed": true
   },
   "outputs": [],
   "source": []
  },
  {
   "cell_type": "code",
   "execution_count": null,
   "metadata": {
    "collapsed": true
   },
   "outputs": [],
   "source": []
  },
  {
   "cell_type": "code",
   "execution_count": null,
   "metadata": {
    "collapsed": true
   },
   "outputs": [],
   "source": []
  }
 ],
 "metadata": {
  "anaconda-cloud": {},
  "kernelspec": {
   "display_name": "Python [default]",
   "language": "python",
   "name": "python3"
  },
  "language_info": {
   "codemirror_mode": {
    "name": "ipython",
    "version": 3
   },
   "file_extension": ".py",
   "mimetype": "text/x-python",
   "name": "python",
   "nbconvert_exporter": "python",
   "pygments_lexer": "ipython3",
   "version": "3.5.2"
  }
 },
 "nbformat": 4,
 "nbformat_minor": 2
}
